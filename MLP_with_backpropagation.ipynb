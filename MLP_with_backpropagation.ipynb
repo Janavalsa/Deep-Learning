{
  "nbformat": 4,
  "nbformat_minor": 0,
  "metadata": {
    "colab": {
      "provenance": []
    },
    "kernelspec": {
      "name": "python3",
      "display_name": "Python 3"
    },
    "language_info": {
      "name": "python"
    }
  },
  "cells": [
    {
      "cell_type": "code",
      "execution_count": null,
      "metadata": {
        "id": "Yfgg_ZrL58py"
      },
      "outputs": [],
      "source": [
        "import numpy as np\n",
        "from sklearn.datasets import make_moons\n",
        "from sklearn.preprocessing import OneHotEncoder\n",
        "from sklearn.model_selection import train_test_split"
      ]
    },
    {
      "cell_type": "code",
      "source": [
        "class MLP:\n",
        "  def __init__(self, input_size,hidden_size,output_size,learning_rate=0.01):\n",
        "    self.input_size = input_size\n",
        "    self.hidden_size = hidden_size\n",
        "    self.output_size = output_size\n",
        "    self.learning_rate = learning_rate\n",
        "    #initialise weights and biases\n",
        "    self.W1 = np.random.randn(self.input_size,self.hidden_size)\n",
        "    self.b1 = np.zeros((1,self.hidden_size))\n",
        "    self.W2 = np.random.randn(self.hidden_size,self.output_size)\n",
        "    self.b2 = np.zeros((1,self.output_size))\n",
        "\n",
        "  def sigmoid(self, x):\n",
        "    return 1 / (1 + np.exp(-x))\n",
        "\n",
        "  def sigmoid_derivative(self, x):\n",
        "    return x * (1 - x)"
      ],
      "metadata": {
        "id": "Px0ffZqI9eBD"
      },
      "execution_count": null,
      "outputs": []
    },
    {
      "cell_type": "code",
      "source": [
        "def forward(self,X):\n",
        "  self.z1 = np.dot(X,self.W1)+self.b1\n",
        "  self.a1 = self.sigmoid(self.z1)\n",
        "  self.z2 = np.dot(self.a1,self.W2)+self.b2\n",
        "  self.a2 = self.sigmoid(self.z2)\n",
        "  return self.a2\n",
        "def backward(self,X,y):\n",
        "  m=y.shape[0]\n",
        "  #compute error\n",
        "  error = self.a2 - y\n",
        "  d_output = error*self.sigmoid_derivative(self.a2)\n",
        "  #compute gradient for hidden layer\n",
        "  error_hidden=np.dot(d_output,self.W2.T)\n",
        "  d_hidden = error_hidden*self.sigmoid_derivative(self.a1)\n",
        "\n",
        "  #update weights and biases\n",
        "  self.W2 -= self.learning_rate * np.dot(self.al.T,d_output) / m\n",
        "  self.b2 -= self.learning_rate * np.sum(d_output,axis=0, keepdims=True) / m\n",
        "  self.W1 -= self.learning_rate * np.dot(X.T,d_hidden) / m\n",
        "  self.b1 -= self.learning_rate * np.sum(d_hidden,axis=0, keepdims=True) / m\n",
        "def train(self,X,y,epochs=10000):\n",
        "  for epoch in range(epochs):\n",
        "    self.forward(X)\n",
        "    self.backward(X,y)\n",
        "\n",
        "    if epochs % 1000 ==0:\n",
        "      loss = np.mean((self.a2 -y) **2)\n",
        "      print(f\"Epoch{epoch},Loss:{loss:6f}\")\n",
        "def predict(self, X):\n",
        "  return self.forward(X)\n"
      ],
      "metadata": {
        "id": "kFbDVmAe-fqx"
      },
      "execution_count": null,
      "outputs": []
    },
    {
      "cell_type": "code",
      "source": [
        "import numpy as np\n",
        "\n",
        "class MLP:\n",
        "    def __init__(self, input_size, hidden_size, output_size, learning_rate=0.1):\n",
        "        self.input_size = input_size\n",
        "        self.hidden_size = hidden_size\n",
        "        self.output_size = output_size\n",
        "        self.learning_rate = learning_rate\n",
        "\n",
        "        # Initialize weights and biases\n",
        "        self.W1 = np.random.randn(input_size, hidden_size) * 0.01\n",
        "        self.b1 = np.zeros((1, hidden_size))\n",
        "        self.W2 = np.random.randn(hidden_size, output_size) * 0.01\n",
        "        self.b2 = np.zeros((1, output_size))\n",
        "\n",
        "    def sigmoid(self, x):\n",
        "        return 1 / (1 + np.exp(-x))\n",
        "\n",
        "    def sigmoid_derivative(self, x):\n",
        "        return x * (1 - x)  # Derivative of sigmoid function\n",
        "\n",
        "    def forward(self, X):\n",
        "        \"\"\"Perform forward propagation\"\"\"\n",
        "        self.z1 = np.dot(X, self.W1) + self.b1\n",
        "        self.a1 = self.sigmoid(self.z1)\n",
        "\n",
        "        self.z2 = np.dot(self.a1, self.W2) + self.b2\n",
        "        self.a2 = self.sigmoid(self.z2)\n",
        "\n",
        "        return self.a2  # Final prediction\n",
        "\n",
        "    def backward(self, X, y):\n",
        "        \"\"\"Perform backpropagation and update weights\"\"\"\n",
        "        m = y.shape[0]  # Number of training examples\n",
        "\n",
        "        # Compute error at output layer\n",
        "        error = self.a2 - y\n",
        "        d_output = error * self.sigmoid_derivative(self.a2)\n",
        "\n",
        "        # Compute error at hidden layer\n",
        "        error_hidden = np.dot(d_output, self.W2.T)\n",
        "        d_hidden = error_hidden * self.sigmoid_derivative(self.a1)\n",
        "\n",
        "        # Update weights and biases using gradient descent\n",
        "        self.W2 -= self.learning_rate * np.dot(self.a1.T, d_output) / m\n",
        "        self.b2 -= self.learning_rate * np.sum(d_output, axis=0, keepdims=True) / m\n",
        "        self.W1 -= self.learning_rate * np.dot(X.T, d_hidden) / m\n",
        "        self.b1 -= self.learning_rate * np.sum(d_hidden, axis=0, keepdims=True) / m\n",
        "\n",
        "    def train(self, X, y, epochs=10000):\n",
        "        \"\"\"Train the neural network\"\"\"\n",
        "        for epoch in range(epochs):\n",
        "            self.forward(X)  # Forward pass\n",
        "            self.backward(X, y)  # Backpropagation\n",
        "\n",
        "            if epoch % 1000 == 0:\n",
        "                loss = np.mean((self.a2 - y) ** 2)  # Mean Squared Error Loss\n",
        "                print(f\"Epoch {epoch}, Loss: {loss:.6f}\")\n",
        "\n",
        "    def predict(self, X):\n",
        "        \"\"\"Make predictions\"\"\"\n",
        "        return self.forward(X)\n"
      ],
      "metadata": {
        "id": "FZnSiygHPU1Q"
      },
      "execution_count": null,
      "outputs": []
    },
    {
      "cell_type": "code",
      "source": [
        "#Generate dataset\n",
        "X,y = make_moons(n_samples=500,noise=0.2,random_state=42)\n",
        "y = y.reshape(-1,1) #reshape of compatibility\n",
        "\n",
        "#split dataset\n",
        "X_train,X_test,y_train,y_test = train_test_split(X,y,test_size=0.2,random_state=42)"
      ],
      "metadata": {
        "id": "glgKJ_VcFy7J"
      },
      "execution_count": null,
      "outputs": []
    },
    {
      "cell_type": "code",
      "source": [
        "#Train MLP\n",
        "mlp = MLP(input_size=2,hidden_size=4,output_size=1,learning_rate=0.1)\n",
        "mlp.train(X_train,y_train, epochs=10000)"
      ],
      "metadata": {
        "colab": {
          "base_uri": "https://localhost:8080/"
        },
        "id": "FLNBL-NBGYwk",
        "outputId": "453f2648-0598-453d-f36a-908dc53e0d1e"
      },
      "execution_count": null,
      "outputs": [
        {
          "output_type": "stream",
          "name": "stdout",
          "text": [
            "Epoch 0, Loss: 0.250043\n",
            "Epoch 1000, Loss: 0.249221\n",
            "Epoch 2000, Loss: 0.235574\n",
            "Epoch 3000, Loss: 0.153736\n",
            "Epoch 4000, Loss: 0.114750\n",
            "Epoch 5000, Loss: 0.101590\n",
            "Epoch 6000, Loss: 0.096308\n",
            "Epoch 7000, Loss: 0.094025\n",
            "Epoch 8000, Loss: 0.092945\n",
            "Epoch 9000, Loss: 0.092392\n"
          ]
        }
      ]
    },
    {
      "cell_type": "code",
      "source": [
        "#predictions\n",
        "predictions=mlp.predict(X_test)\n",
        "print(\"Predictions:\",predictions)"
      ],
      "metadata": {
        "id": "0qV9MDZ4MX_z",
        "colab": {
          "base_uri": "https://localhost:8080/"
        },
        "outputId": "fff3f05e-3585-42fe-d124-2c5da66eb5c1"
      },
      "execution_count": null,
      "outputs": [
        {
          "output_type": "stream",
          "name": "stdout",
          "text": [
            "Predictions: [[0.51725463]\n",
            " [0.24325844]\n",
            " [0.32258505]\n",
            " [0.94801038]\n",
            " [0.8821238 ]\n",
            " [0.78132254]\n",
            " [0.03492465]\n",
            " [0.07402392]\n",
            " [0.31257195]\n",
            " [0.08458367]\n",
            " [0.94298649]\n",
            " [0.04373512]\n",
            " [0.81752446]\n",
            " [0.82212728]\n",
            " [0.89511425]\n",
            " [0.0608692 ]\n",
            " [0.0593815 ]\n",
            " [0.89110135]\n",
            " [0.86049046]\n",
            " [0.17548808]\n",
            " [0.06701739]\n",
            " [0.5277444 ]\n",
            " [0.62200974]\n",
            " [0.24896338]\n",
            " [0.12992252]\n",
            " [0.19315277]\n",
            " [0.74993007]\n",
            " [0.04287011]\n",
            " [0.93357202]\n",
            " [0.04296924]\n",
            " [0.94019708]\n",
            " [0.96205616]\n",
            " [0.11160829]\n",
            " [0.03729565]\n",
            " [0.93857838]\n",
            " [0.62431002]\n",
            " [0.07953452]\n",
            " [0.94780891]\n",
            " [0.92882568]\n",
            " [0.89664638]\n",
            " [0.70134192]\n",
            " [0.81191831]\n",
            " [0.32056229]\n",
            " [0.0746377 ]\n",
            " [0.05330616]\n",
            " [0.16262273]\n",
            " [0.90161228]\n",
            " [0.14528663]\n",
            " [0.87225953]\n",
            " [0.29674976]\n",
            " [0.34660199]\n",
            " [0.95188364]\n",
            " [0.06110294]\n",
            " [0.05894016]\n",
            " [0.2464112 ]\n",
            " [0.08296893]\n",
            " [0.28683408]\n",
            " [0.93990192]\n",
            " [0.03867979]\n",
            " [0.92655607]\n",
            " [0.06394721]\n",
            " [0.90718654]\n",
            " [0.84382782]\n",
            " [0.06727063]\n",
            " [0.8919457 ]\n",
            " [0.10568102]\n",
            " [0.19914922]\n",
            " [0.74043803]\n",
            " [0.05489815]\n",
            " [0.65767402]\n",
            " [0.56061942]\n",
            " [0.11931584]\n",
            " [0.85464885]\n",
            " [0.89955544]\n",
            " [0.05312131]\n",
            " [0.05197743]\n",
            " [0.95234568]\n",
            " [0.94503072]\n",
            " [0.04457151]\n",
            " [0.11492105]\n",
            " [0.85487003]\n",
            " [0.34995576]\n",
            " [0.26108807]\n",
            " [0.66678178]\n",
            " [0.93144253]\n",
            " [0.92417821]\n",
            " [0.89036618]\n",
            " [0.06528637]\n",
            " [0.93912269]\n",
            " [0.84787122]\n",
            " [0.93218   ]\n",
            " [0.04863903]\n",
            " [0.07729958]\n",
            " [0.09891124]\n",
            " [0.06089219]\n",
            " [0.92101906]\n",
            " [0.05319067]\n",
            " [0.70256787]\n",
            " [0.37752369]\n",
            " [0.94877563]]\n"
          ]
        }
      ]
    }
  ]
}